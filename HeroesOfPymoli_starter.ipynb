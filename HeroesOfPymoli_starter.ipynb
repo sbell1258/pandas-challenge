{
 "cells": [
  {
   "cell_type": "markdown",
   "metadata": {},
   "source": [
    "### Pandas Homework - Pandas, Pandas, Pandas\n",
    "\n",
    "##  Code location - C:\\Users\\sbell\\OneDrive\\Documents\\Notes Data science bootcamp\\NU Download from GitLab\\04-Pandas\\Pandas_HW\\Instructions\\HeroesOfPymoli\n",
    "\n",
    "## Heroes of Pymoli\n",
    "\n",
    "![Fantasy](Images/Fantasy.png)\n",
    "\n",
    "Analyze the data for the most recent fantasy game Heroes of Pymoli.\n",
    "\n",
    "Background: the game is free-to-play, but players are encouraged to purchase optional items that enhance their playing experience. As a first task, this code will generate a report that breaks down the game's purchasing data into meaningful insights.\n",
    "\n",
    "The final report includes each of the following:\n",
    "\n",
    "### Player Count\n",
    "\n",
    "* Total Number of Players\n",
    "\n",
    "### Purchasing Analysis (Total)\n",
    "\n",
    "* Number of Unique Items\n",
    "* Average Purchase Price\n",
    "* Total Number of Purchases\n",
    "* Total Revenue\n",
    "\n",
    "### Gender Demographics\n",
    "\n",
    "* Percentage and Count of Male Players\n",
    "* Percentage and Count of Female Players\n",
    "* Percentage and Count of Other / Non-Disclosed\n",
    "\n",
    "### Purchasing Analysis (Gender)\n",
    "\n",
    "* The below each broken by gender\n",
    "  * Purchase Count\n",
    "  * Average Purchase Price\n",
    "  * Total Purchase Value\n",
    "  * Average Purchase Total per Person by Gender\n",
    "\n",
    "### Age Demographics\n",
    "\n",
    "* The below each broken into bins of 4 years (i.e. &lt;10, 10-14, 15-19, etc.)\n",
    "  * Purchase Count\n",
    "  * Average Purchase Price\n",
    "  * Total Purchase Value\n",
    "  * Average Purchase Total per Person by Age Group\n",
    "\n",
    "### Top Spenders\n",
    "\n",
    "* Identify the the top 5 spenders in the game by total purchase value, then list (in a table):\n",
    "  * SN\n",
    "  * Purchase Count\n",
    "  * Average Purchase Price\n",
    "  * Total Purchase Value\n",
    "\n",
    "### Most Popular Items\n",
    "\n",
    "* Identify the 5 most popular items by purchase count, then list (in a table):\n",
    "  * Item ID\n",
    "  * Item Name\n",
    "  * Purchase Count\n",
    "  * Item Price\n",
    "  * Total Purchase Value\n",
    "\n",
    "### Most Profitable Items\n",
    "\n",
    "* Identify the 5 most profitable items by total purchase value, then list (in a table):\n",
    "  * Item ID\n",
    "  * Item Name\n",
    "  * Purchase Count\n",
    "  * Item Price\n",
    "  * Total Purchase Value\n",
    "\n",
    "As final considerations:\n",
    "\n",
    "* You must use the Pandas Library and the Jupyter Notebook.\n",
    "* You must submit a link to your Jupyter Notebook with the viewable Data Frames.\n",
    "* You must include a written description of three observable trends based on the data.\n",
    "* See [Example Solution](HeroesOfPymoli/HeroesOfPymoli_starter.ipynb) for a reference on expected format."
   ]
  },
  {
   "cell_type": "code",
   "execution_count": 1,
   "metadata": {},
   "outputs": [],
   "source": [
    "# Dependencies and Setup\n",
    "import pandas as pd\n",
    "import locale"
   ]
  },
  {
   "cell_type": "code",
   "execution_count": 2,
   "metadata": {},
   "outputs": [],
   "source": [
    "# File to Load (Remember to Change These)\n",
    "file_to_load = \"/Users/sbell/OneDrive/Documents/Notes Data science bootcamp/NU Download from GitLab/04-Pandas/Pandas_HW/Instructions/HeroesOfPymoli/Resources/purchase_data.csv\"\n",
    "purchase_data = pd.read_csv(file_to_load)"
   ]
  },
  {
   "cell_type": "code",
   "execution_count": 3,
   "metadata": {},
   "outputs": [],
   "source": [
    "purchase_data.columns = ['purchase_id', 'SN', 'Age', 'Gender', 'item_id', 'item_name', 'Price']"
   ]
  },
  {
   "cell_type": "code",
   "execution_count": 4,
   "metadata": {},
   "outputs": [
    {
     "name": "stdout",
     "output_type": "stream",
     "text": [
      "Total number of players:  576\n"
     ]
    }
   ],
   "source": [
    "# Provides count/listing of unique values in the specified column\n",
    "total_rows = len(purchase_data[\"SN\"].value_counts())\n",
    "print(\"Total number of players: \",total_rows)"
   ]
  },
  {
   "cell_type": "markdown",
   "metadata": {},
   "source": [
    "## Purchasing Analysis (Total)"
   ]
  },
  {
   "cell_type": "markdown",
   "metadata": {},
   "source": [
    "* Run basic calculations to obtain number of unique items, average price, etc.\n",
    "    * Number of Unique Items\n",
    "    * Average Purchase Price\n",
    "    * Total Number of Purchases\n",
    "    * Total Revenue\n",
    "\n",
    "* Create a summary data frame to hold the results\n",
    "\n",
    "\n",
    "* Optional: give the displayed data cleaner formatting\n",
    "\n",
    "\n",
    "* Display the summary data frame\n"
   ]
  },
  {
   "cell_type": "code",
   "execution_count": 7,
   "metadata": {},
   "outputs": [
    {
     "data": {
      "text/html": [
       "<div>\n",
       "<style scoped>\n",
       "    .dataframe tbody tr th:only-of-type {\n",
       "        vertical-align: middle;\n",
       "    }\n",
       "\n",
       "    .dataframe tbody tr th {\n",
       "        vertical-align: top;\n",
       "    }\n",
       "\n",
       "    .dataframe thead th {\n",
       "        text-align: right;\n",
       "    }\n",
       "</style>\n",
       "<table border=\"1\" class=\"dataframe\">\n",
       "  <thead>\n",
       "    <tr style=\"text-align: right;\">\n",
       "      <th></th>\n",
       "      <th># of Unique Items</th>\n",
       "      <th>Avg Price</th>\n",
       "      <th># of Purchase</th>\n",
       "      <th>Total Revenue</th>\n",
       "    </tr>\n",
       "  </thead>\n",
       "  <tbody>\n",
       "    <tr>\n",
       "      <th>0</th>\n",
       "      <td>183</td>\n",
       "      <td>$3.05</td>\n",
       "      <td>780</td>\n",
       "      <td>$2,379.77</td>\n",
       "    </tr>\n",
       "  </tbody>\n",
       "</table>\n",
       "</div>"
      ],
      "text/plain": [
       "  # of Unique Items Avg Price # of Purchase Total Revenue\n",
       "0               183     $3.05           780     $2,379.77"
      ]
     },
     "execution_count": 7,
     "metadata": {},
     "output_type": "execute_result"
    }
   ],
   "source": [
    "column_names1 = [\"# of Unique Items\", \"Avg Price\", \"# of Purchase\", \"Total Revenue\"]\n",
    "purch_analysis_df = pd.DataFrame(columns = column_names1)\n",
    "purch_analysis_df.loc[0,'# of Unique Items'] = len(purchase_data[\"item_id\"].value_counts())\n",
    "purch_analysis_df.loc[0,'Avg Price'] = purchase_data[\"Price\"].mean()\n",
    "purch_analysis_df.loc[0,'# of Purchase'] = purchase_data['purchase_id'].count() \n",
    "purch_analysis_df.loc[0,'Total Revenue'] = purchase_data[\"Price\"].sum()\n",
    "\n",
    "avg_price = purch_analysis_df['Avg Price'].astype(float).map(\"${:.2f}\".format)\n",
    "total_revenue = purch_analysis_df['Total Revenue'].astype(float).map(\"${:,.2f}\".format)\n",
    "purch_analysis_df['Avg Price'] = avg_price\n",
    "purch_analysis_df['Total Revenue'] = total_revenue\n",
    "purch_analysis_df"
   ]
  },
  {
   "cell_type": "markdown",
   "metadata": {},
   "source": [
    "## Gender Demographics"
   ]
  },
  {
   "cell_type": "markdown",
   "metadata": {},
   "source": [
    "# * Percentage and Count of Male Players\n",
    "# * Percentage and Count of Female Players\n",
    "# * Percentage and Count of Other / Non-Disclosed"
   ]
  },
  {
   "cell_type": "code",
   "execution_count": null,
   "metadata": {},
   "outputs": [],
   "source": [
    "gender_user_df = purchase_data[[\"SN\", \"Gender\"]].copy()"
   ]
  },
  {
   "cell_type": "markdown",
   "metadata": {},
   "source": [
    "* Percentage and Count of Male Players\n",
    "\n",
    "\n",
    "* Percentage and Count of Female Players\n",
    "\n",
    "\n",
    "* Percentage and Count of Other / Non-Disclosed\n",
    "\n",
    "\n"
   ]
  },
  {
   "cell_type": "code",
   "execution_count": null,
   "metadata": {},
   "outputs": [],
   "source": [
    "column_names2 = [\"Gender\", \"Total Count\", \"% of Players\"]\n",
    "gender_analysis_df = pd.DataFrame(columns = column_names2)"
   ]
  },
  {
   "cell_type": "code",
   "execution_count": null,
   "metadata": {},
   "outputs": [],
   "source": [
    "result_males_df = purchase_data[(purchase_data['Gender'] == 'Male')]\n",
    "\n",
    "gender_analysis_df.loc[0,'Gender'] = \"Males\"\n",
    "gender_analysis_df.loc[0,'Total Count'] = len(result_males_df[\"SN\"].value_counts())\n",
    "gender_analysis_df.loc[0,'% of Players'] = (len(result_males_df[\"SN\"].value_counts()) / total_rows) * 1\n",
    "\n",
    "result_females_df = purchase_data[(purchase_data['Gender'] == 'Female')]\n",
    "\n",
    "gender_analysis_df.loc[1,'Gender'] = \"Females\"\n",
    "gender_analysis_df.loc[1,'Total Count'] = len(result_females_df[\"SN\"].value_counts())\n",
    "gender_analysis_df.loc[1,'% of Players'] = (len(result_females_df[\"SN\"].value_counts()) / total_rows) * 1\n",
    "\n",
    "result_other_df = purchase_data[(purchase_data['Gender'] != 'Male') & (purchase_data['Gender'] != 'Female')]\n",
    "\n",
    "gender_analysis_df.loc[2,'Gender'] = \"Other / Non-Disclosed\"\n",
    "gender_analysis_df.loc[2,'Total Count'] = len(result_other_df[\"SN\"].value_counts())\n",
    "gender_analysis_df.loc[2,'% of Players'] = (len(result_other_df[\"SN\"].value_counts()) / total_rows) * 1\n",
    "gender_analysis_df['% of Players'] = gender_analysis_df['% of Players'].astype(float).map(\"{:.2%}\".format)\n",
    "gender_analysis_df\n",
    "gender_analysis_df.set_index('Gender')"
   ]
  },
  {
   "cell_type": "markdown",
   "metadata": {},
   "source": [
    "## Purchasing Analysis (Gender)"
   ]
  },
  {
   "cell_type": "markdown",
   "metadata": {},
   "source": [
    "* Run basic calculations to obtain purchase count, avg. purchase price, avg. purchase total per person etc. by gender\n",
    "* Create a summary data frame to hold the results\n",
    "* Optional: give the displayed data cleaner formatting\n",
    "* Display the summary data frame"
   ]
  },
  {
   "cell_type": "code",
   "execution_count": null,
   "metadata": {},
   "outputs": [],
   "source": [
    "# Create framework for Purchasing Analysis Information\n",
    "column_names3 = [\"Gender\", \"Purchase Count\", \"Avg Purchase Price\", \"Total Purchase Value\",  \"Avg Total Purchase per person\"]\n",
    "gender_purch_analysis_df = pd.DataFrame(columns = column_names3)"
   ]
  },
  {
   "cell_type": "code",
   "execution_count": null,
   "metadata": {},
   "outputs": [],
   "source": [
    "# Generate Purchasing Analysis for Females\n",
    "gender_purch_analysis_df.loc[0, \"Gender\"] = \"Females\"\n",
    "gender_purch_analysis_df.loc[0, 'Purchase Count'] = len(result_females_df)\n",
    "gender_purch_analysis_df.loc[0, \"Avg Purchase Price\"]  = result_females_df[\"Price\"].mean()\n",
    "gender_purch_analysis_df.loc[0, \"Total Purchase Value\"]  = result_females_df[\"Price\"].sum()\n",
    "\n",
    "gender_fem_df = result_females_df[[\"SN\", \"Price\"]].copy().sort_values(\"SN\")\n",
    "gender_fem_df = gender_fem_df.groupby('SN').sum()\n",
    "\n",
    "gender_purch_analysis_df.loc[0, \"Avg Total Purchase per person\"] = gender_fem_df['Price'].mean()\n",
    "\n",
    "# Generate Purchasing Analysis for Males\n",
    "gender_purch_analysis_df.loc[1, \"Gender\"] = \"Males\"\n",
    "gender_purch_analysis_df.loc[1, 'Purchase Count'] = len(result_males_df)\n",
    "gender_purch_analysis_df.loc[1, \"Avg Purchase Price\"]  = result_males_df[\"Price\"].mean()\n",
    "gender_purch_analysis_df.loc[1, \"Total Purchase Value\"]  = result_males_df[\"Price\"].sum()\n",
    "\n",
    "gender_males_df = result_males_df[[\"SN\", \"Price\"]].copy().sort_values(\"SN\")\n",
    "gender_males_df = gender_males_df.groupby('SN').sum()\n",
    "\n",
    "gender_purch_analysis_df.loc[1, \"Avg Total Purchase per person\"] = gender_males_df['Price'].mean()\n",
    "\n",
    "# Generate Purchasing Analysis for Other/etc\n",
    "gender_purch_analysis_df.loc[2, \"Gender\"] = \"Other / NonDisclosed\"\n",
    "gender_purch_analysis_df.loc[2, 'Purchase Count'] = len(result_other_df)\n",
    "gender_purch_analysis_df.loc[2, \"Avg Purchase Price\"]  = result_other_df[\"Price\"].mean()\n",
    "gender_purch_analysis_df.loc[2, \"Total Purchase Value\"]  = result_other_df[\"Price\"].sum()\n",
    "\n",
    "gender_other_df = result_other_df[[\"SN\", \"Price\"]].copy().sort_values(\"SN\")\n",
    "gender_other_df = gender_other_df.groupby('SN').sum()\n",
    "\n",
    "gender_purch_analysis_df.loc[2, \"Avg Total Purchase per person\"] = gender_other_df['Price'].mean()\n",
    "\n",
    "gender_purch_analysis_df['Avg Total Purchase per person'] = gender_purch_analysis_df['Avg Total Purchase per person'].astype(float).map(\"${:,.2f}\".format)\n",
    "gender_purch_analysis_df['Total Purchase Value'] = gender_purch_analysis_df['Total Purchase Value'].astype(float).map(\"${:,.2f}\".format)\n",
    "gender_purch_analysis_df['Avg Purchase Price'] = gender_purch_analysis_df['Avg Purchase Price'].astype(float).map(\"${:,.2f}\".format)\n",
    "\n",
    "gender_purch_analysis_df\n",
    "gender_purch_analysis_df.set_index('Gender')"
   ]
  },
  {
   "cell_type": "code",
   "execution_count": null,
   "metadata": {},
   "outputs": [],
   "source": [
    "## Age Demographics"
   ]
  },
  {
   "cell_type": "markdown",
   "metadata": {},
   "source": [
    "* Establish bins for ages\n",
    "* Categorize the existing players using the age bins. Hint: use pd.cut()\n",
    "* Calculate the numbers and percentages by age group\n",
    "* Create a summary data frame to hold the results\n",
    "* Optional: round the percentage column to two decimal points\n",
    "* Display Age Demographics Table\n"
   ]
  },
  {
   "cell_type": "code",
   "execution_count": null,
   "metadata": {},
   "outputs": [],
   "source": [
    "# Define bins\n",
    "bins = [0, 10, 15, 20, 25, 30, 35, 40, 199]\n",
    "\n",
    "# Names for each bin category\n",
    "grp_names = [\"  <10\", \"10-14\", \"15-19\", \"20-24\", \"25-29\", \"30-34\", \"35-39\", \"40+\"]\n",
    "\n",
    "purchase_data['age_range'] = pd.cut(purchase_data['Age'], bins, right=False, labels=grp_names)"
   ]
  },
  {
   "cell_type": "code",
   "execution_count": null,
   "metadata": {},
   "outputs": [],
   "source": [
    "# Create dataframes based upon age range for further processing\n",
    "\n",
    "result_lt10_df = purchase_data[(purchase_data['age_range'] == '  <10')]\n",
    "result_10to14_df = purchase_data[(purchase_data['age_range'] == '10-14')]\n",
    "result_15to19_df = purchase_data[(purchase_data['age_range'] == '15-19')]\n",
    "result_20to24_df = purchase_data[(purchase_data['age_range'] == '20-24')]\n",
    "result_25to29_df = purchase_data[(purchase_data['age_range'] == '25-29')]\n",
    "result_30to34_df = purchase_data[(purchase_data['age_range'] == '30-34')]\n",
    "result_35to39_df = purchase_data[(purchase_data['age_range'] == '35-39')]\n",
    "result_ge40_df = purchase_data[(purchase_data['age_range'] == '40+')]"
   ]
  },
  {
   "cell_type": "code",
   "execution_count": null,
   "metadata": {},
   "outputs": [],
   "source": [
    "# Create framework for Age demographics Information\n",
    "column_names4 = [\"Demographics\", \"Total Count\", \"Percent of Players\"]\n",
    "age_demographics_df = pd.DataFrame(columns = column_names4)\n"
   ]
  },
  {
   "cell_type": "code",
   "execution_count": null,
   "metadata": {},
   "outputs": [],
   "source": [
    "age_demographics_df.loc[0, 'Demographics'] = \"<10\"\n",
    "age_demographics_df.loc[0, 'Total Count'] = len(result_lt10_df[\"SN\"].value_counts())\n",
    "age_demographics_df.loc[0, 'Percent of Players'] = (len(result_lt10_df[\"SN\"].value_counts()) / len(purchase_data[\"SN\"].value_counts())) * 1\n",
    "\n",
    "age_demographics_df.loc[1, 'Demographics'] = \"10-14\"\n",
    "age_demographics_df.loc[1, 'Total Count'] = len(result_10to14_df[\"SN\"].value_counts())\n",
    "age_demographics_df.loc[1, 'Percent of Players'] = (len(result_10to14_df[\"SN\"].value_counts()) / len(purchase_data[\"SN\"].value_counts())) * 1\n",
    "\n",
    "age_demographics_df.loc[2, 'Demographics'] = \"15-19\"\n",
    "age_demographics_df.loc[2, 'Total Count'] = len(result_15to19_df[\"SN\"].value_counts())\n",
    "age_demographics_df.loc[2, 'Percent of Players'] = (len(result_15to19_df[\"SN\"].value_counts()) / len(purchase_data[\"SN\"].value_counts())) * 1\n",
    "\n",
    "age_demographics_df.loc[3, 'Demographics'] = \"20-24\"\n",
    "age_demographics_df.loc[3, 'Total Count'] = len(result_20to24_df[\"SN\"].value_counts())\n",
    "age_demographics_df.loc[3, 'Percent of Players'] = (len(result_20to24_df[\"SN\"].value_counts()) / len(purchase_data[\"SN\"].value_counts())) * 1\n",
    "\n",
    "age_demographics_df.loc[4, 'Demographics'] = \"25-29\"\n",
    "age_demographics_df.loc[4, 'Total Count'] = len(result_25to29_df[\"SN\"].value_counts())\n",
    "age_demographics_df.loc[4, 'Percent of Players'] = (len(result_25to29_df[\"SN\"].value_counts()) / len(purchase_data[\"SN\"].value_counts())) * 1\n",
    "\n",
    "age_demographics_df.loc[5, 'Demographics'] = \"30-34\"\n",
    "age_demographics_df.loc[5, 'Total Count'] = len(result_30to34_df[\"SN\"].value_counts())\n",
    "age_demographics_df.loc[5, 'Percent of Players'] = (len(result_30to34_df[\"SN\"].value_counts()) / len(purchase_data[\"SN\"].value_counts())) * 1\n",
    "\n",
    "age_demographics_df.loc[6, 'Demographics'] = \"35-39\"\n",
    "age_demographics_df.loc[6, 'Total Count'] = len(result_35to39_df[\"SN\"].value_counts())\n",
    "age_demographics_df.loc[6, 'Percent of Players'] = (len(result_35to39_df[\"SN\"].value_counts()) / len(purchase_data[\"SN\"].value_counts())) * 1\n",
    "\n",
    "age_demographics_df.loc[7, 'Demographics'] = \"40+\"\n",
    "age_demographics_df.loc[7, 'Total Count'] = len(result_ge40_df[\"SN\"].value_counts())\n",
    "age_demographics_df.loc[7, 'Percent of Players'] = (len(result_ge40_df[\"SN\"].value_counts()) / len(purchase_data[\"SN\"].value_counts())) * 1\n",
    "\n",
    "age_demographics_df['Percent of Players'] = age_demographics_df['Percent of Players'].astype(float).map(\"{:.2%}\".format)\n",
    "\n",
    "age_demographics_df\n",
    "age_demographics_df.set_index('Demographics')"
   ]
  },
  {
   "cell_type": "markdown",
   "metadata": {},
   "source": [
    "## Purchasing Analysis (Age)"
   ]
  },
  {
   "cell_type": "markdown",
   "metadata": {},
   "source": [
    "* Bin the purchase_data data frame by age\n",
    "* Run basic calculations to obtain purchase count, avg. purchase price, avg. purchase total per person etc. in the table below\n",
    "* Create a summary data frame to hold the results\n",
    "* Optional: give the displayed data cleaner formatting\n",
    "* Display the summary data frame"
   ]
  },
  {
   "cell_type": "code",
   "execution_count": null,
   "metadata": {},
   "outputs": [],
   "source": [
    "# Create framework for Age Purchase Analysis Information\n",
    "column_names5 = [\"Age Ranges\", \"Purchase Count\", \"Average Purchase Price\", \"Total Purchase Value\", \"Avg Total Purchase/Person\"]\n",
    "age_purch_age_df = pd.DataFrame(columns = column_names5)\n"
   ]
  },
  {
   "cell_type": "code",
   "execution_count": null,
   "metadata": {},
   "outputs": [],
   "source": [
    "age_purch_age_df.loc[0, 'Age Ranges'] = \"<10\"\n",
    "age_purch_age_df.loc[0, 'Purchase Count'] = len(result_lt10_df)\n",
    "age_purch_age_df.loc[0, 'Average Purchase Price'] = result_lt10_df[\"Price\"].mean()\n",
    "age_purch_age_df.loc[0, 'Total Purchase Value'] = result_lt10_df[\"Price\"].sum()\n",
    "\n",
    "result_lt10_grp_df = result_lt10_df[[\"SN\", \"Price\"]].copy().sort_values(\"SN\")\n",
    "result_lt10_pp_df = result_lt10_grp_df.groupby('SN').sum()\n",
    "age_purch_age_df.loc[0, 'Avg Total Purchase/Person'] = result_lt10_pp_df[\"Price\"].mean()\n",
    "\n",
    "age_purch_age_df.loc[1, 'Age Ranges'] = \"10-14\"\n",
    "age_purch_age_df.loc[1, 'Purchase Count'] = len(result_10to14_df)\n",
    "age_purch_age_df.loc[1, 'Average Purchase Price'] = result_10to14_df[\"Price\"].mean()\n",
    "age_purch_age_df.loc[1, 'Total Purchase Value'] = result_10to14_df[\"Price\"].sum()\n",
    "\n",
    "result_10to14_grp_df = result_10to14_df[[\"SN\", \"Price\"]].copy().sort_values(\"SN\")\n",
    "result_10to14_pp_df = result_10to14_grp_df.groupby('SN').sum()\n",
    "age_purch_age_df.loc[1, 'Avg Total Purchase/Person'] = result_10to14_pp_df[\"Price\"].mean()\n",
    "\n",
    "age_purch_age_df.loc[2, 'Age Ranges'] = \"15-19\"\n",
    "age_purch_age_df.loc[2, 'Purchase Count'] = len(result_15to19_df)\n",
    "age_purch_age_df.loc[2, 'Average Purchase Price'] = result_15to19_df[\"Price\"].mean()\n",
    "age_purch_age_df.loc[2, 'Total Purchase Value'] = result_15to19_df[\"Price\"].sum()\n",
    "\n",
    "result_15to19_grp_df = result_15to19_df[[\"SN\", \"Price\"]].copy().sort_values(\"SN\")\n",
    "result_15to19_pp_df = result_15to19_grp_df.groupby('SN').sum()\n",
    "age_purch_age_df.loc[2, 'Avg Total Purchase/Person'] = result_15to19_pp_df[\"Price\"].mean()\n",
    "\n",
    "age_purch_age_df.loc[3, 'Age Ranges'] = \"20-24\"\n",
    "age_purch_age_df.loc[3, 'Purchase Count'] = len(result_20to24_df)\n",
    "age_purch_age_df.loc[3, 'Average Purchase Price'] = result_20to24_df[\"Price\"].mean()\n",
    "age_purch_age_df.loc[3, 'Total Purchase Value'] = result_20to24_df[\"Price\"].sum()\n",
    "\n",
    "result_20to24_grp_df = result_20to24_df[[\"SN\", \"Price\"]].copy().sort_values(\"SN\")\n",
    "result_20to24_pp_df = result_20to24_grp_df.groupby('SN').sum()\n",
    "age_purch_age_df.loc[3, 'Avg Total Purchase/Person'] = result_20to24_pp_df[\"Price\"].mean()\n",
    "\n",
    "age_purch_age_df.loc[4, 'Age Ranges'] = \"25-29\"\n",
    "age_purch_age_df.loc[4, 'Purchase Count'] = len(result_25to29_df)\n",
    "age_purch_age_df.loc[4, 'Average Purchase Price'] = result_25to29_df[\"Price\"].mean()\n",
    "age_purch_age_df.loc[4, 'Total Purchase Value'] = result_25to29_df[\"Price\"].sum()\n",
    "\n",
    "result_25to29_grp_df = result_25to29_df[[\"SN\", \"Price\"]].copy().sort_values(\"SN\")\n",
    "result_25to29_pp_df = result_25to29_grp_df.groupby('SN').sum()\n",
    "age_purch_age_df.loc[4, 'Avg Total Purchase/Person'] = result_25to29_pp_df[\"Price\"].mean()\n",
    "\n",
    "age_purch_age_df.loc[5, 'Age Ranges'] = \"30-34\"\n",
    "age_purch_age_df.loc[5, 'Purchase Count'] = len(result_30to34_df)\n",
    "age_purch_age_df.loc[5, 'Average Purchase Price'] = result_30to34_df[\"Price\"].mean()\n",
    "age_purch_age_df.loc[5, 'Total Purchase Value'] = result_30to34_df[\"Price\"].sum()\n",
    "\n",
    "result_30to34_grp_df = result_30to34_df[[\"SN\", \"Price\"]].copy().sort_values(\"SN\")\n",
    "result_30to34_pp_df = result_30to34_grp_df.groupby('SN').sum()\n",
    "age_purch_age_df.loc[5, 'Avg Total Purchase/Person'] = result_30to34_pp_df[\"Price\"].mean()\n",
    "\n",
    "age_purch_age_df.loc[6, 'Age Ranges'] = \"35-39\"\n",
    "age_purch_age_df.loc[6, 'Purchase Count'] = len(result_35to39_df)\n",
    "age_purch_age_df.loc[6, 'Average Purchase Price'] = result_35to39_df[\"Price\"].mean()\n",
    "age_purch_age_df.loc[6, 'Total Purchase Value'] = result_35to39_df[\"Price\"].sum()\n",
    "\n",
    "result_35to39_grp_df = result_35to39_df[[\"SN\", \"Price\"]].copy().sort_values(\"SN\")\n",
    "result_35to39_pp_df = result_35to39_grp_df.groupby('SN').sum()\n",
    "age_purch_age_df.loc[6, 'Avg Total Purchase/Person'] = result_35to39_pp_df[\"Price\"].mean()\n",
    "\n",
    "age_purch_age_df.loc[7, 'Age Ranges'] = \"40+\"\n",
    "age_purch_age_df.loc[7, 'Purchase Count'] = len(result_ge40_df)\n",
    "age_purch_age_df.loc[7, 'Average Purchase Price'] = result_ge40_df[\"Price\"].mean()\n",
    "age_purch_age_df.loc[7, 'Total Purchase Value'] = result_ge40_df[\"Price\"].sum()\n",
    "\n",
    "result_ge40_grp_df = result_ge40_df[[\"SN\", \"Price\"]].copy().sort_values(\"SN\")\n",
    "result_ge40_pp_df = result_ge40_grp_df.groupby('SN').sum()\n",
    "age_purch_age_df.loc[7, 'Avg Total Purchase/Person'] = result_ge40_pp_df[\"Price\"].mean()\n"
   ]
  },
  {
   "cell_type": "code",
   "execution_count": null,
   "metadata": {},
   "outputs": [],
   "source": [
    "#age_purch_age_df['Average Purchase Price'] = age_purch_age_df['Average Purchase Price'].astype(float).map(\"${,:.2f}\".format)\n",
    "#age_purch_age_df['Total Purchase Value'] = age_purch_age_df['Total Purchase Value'].astype(float).map(\"${,:.2f}\".format)\n",
    "#age_purch_age_df['Avg Total Purchase/Person'] = age_purch_age_df['Avg Total Purchase/Person'].astype(float).map(\"${,:.2f}\".format)\n",
    "\n",
    "age_purch_age_df\n",
    "age_purch_age_df.set_index('Age Ranges')"
   ]
  },
  {
   "cell_type": "markdown",
   "metadata": {},
   "source": [
    "### Top Spenders"
   ]
  },
  {
   "cell_type": "markdown",
   "metadata": {},
   "source": [
    "* Run basic calculations to obtain the results in the table below\n",
    "* Create a summary data frame to hold the results\n",
    "* Sort the total purchase value column in descending order\n",
    "* Optional: give the displayed data cleaner formatting\n",
    "* Display a preview of the summary data frame"
   ]
  },
  {
   "cell_type": "code",
   "execution_count": null,
   "metadata": {},
   "outputs": [],
   "source": [
    "result_top_spdr_all_df = purchase_data[[\"SN\", \"Price\"]].copy().sort_values(\"SN\")\n",
    "result_top_spdr_pp_df = result_top_spdr_all_df.groupby('SN').agg({'Price': ['count','mean','sum']})\n",
    "#result_top_spdr_pp_df.info()\n",
    "\n",
    "# Update framework for Age Purchase Analysis Information\n",
    "\n",
    "result_top_spdr_pp_df.columns = [\"Purchase Count\", \"Average Purchase Price\", \"Total Purchase Value\"]\n",
    "result_top_spdr_pp_df = result_top_spdr_pp_df.sort_values('Total Purchase Value', axis=0, ascending=False).head(5)\n",
    "\n",
    "#result_top_spdr_pp_df['Average Purchase Price'] = result_top_spdr_pp_df['Average Purchase Price'].astype(float).map(\"${,:.2f}\".format)\n",
    "#result_top_spdr_pp_df['Total Purchase Value'] = result_top_spdr_pp_df['Total Purchase Value'].astype(float).map(\"${,:.2f}\".format)\n",
    "\n",
    "result_top_spdr_pp_df"
   ]
  },
  {
   "cell_type": "markdown",
   "metadata": {},
   "source": [
    "## Most Popular Items"
   ]
  },
  {
   "cell_type": "markdown",
   "metadata": {},
   "source": [
    "* Retrieve the Item ID, Item Name, and Item Price columns\n",
    "* Group by Item ID and Item Name. Perform calculations to obtain purchase count, item price, and total purchase value\n",
    "* Create a summary data frame to hold the results\n",
    "* Sort the purchase count column in descending order\n",
    "* Optional: give the displayed data cleaner formatting\n",
    "* Display a preview of the summary data frame"
   ]
  },
  {
   "cell_type": "code",
   "execution_count": null,
   "metadata": {},
   "outputs": [],
   "source": [
    "result_most_pop_all_df = purchase_data[['item_id', 'item_name', \"Price\"]].copy().sort_values(\"item_id\")\n",
    "\n",
    "result_most_pop_df = result_most_pop_all_df.groupby(['item_id', 'item_name']).agg({'Price': ['count','sum']})\n",
    "\n",
    "result_most_pop_df.columns = [\"Purchase Count\", \"Total Purchase Value\"]\n",
    "\n",
    "result_most_pop_5_df = result_most_pop_df.sort_values('Purchase Count', axis=0, ascending=False).head(5)\n",
    "\n",
    "#result_most_pop_5_df['Total Purchase Value'] = result_most_pop_df['Total Purchase Value'].astype(float).map(\"${,:.2f}\".format)\n",
    "\n",
    "result_most_pop_5_df "
   ]
  },
  {
   "cell_type": "markdown",
   "metadata": {},
   "source": [
    "## Most Profitable Items"
   ]
  },
  {
   "cell_type": "markdown",
   "metadata": {},
   "source": [
    "* Sort the above table by total purchase value in descending order\n",
    "* Optional: give the displayed data cleaner formatting\n",
    "* Display a preview of the data frame"
   ]
  },
  {
   "cell_type": "code",
   "execution_count": null,
   "metadata": {},
   "outputs": [],
   "source": [
    "result_most_pop_df.sort_values('Total Purchase Value',ascending=False).head(5)"
   ]
  }
 ],
 "metadata": {
  "anaconda-cloud": {},
  "kernel_info": {
   "name": "python3"
  },
  "kernelspec": {
   "display_name": "Python 3",
   "language": "python",
   "name": "python3"
  },
  "language_info": {
   "codemirror_mode": {
    "name": "ipython",
    "version": 3
   },
   "file_extension": ".py",
   "mimetype": "text/x-python",
   "name": "python",
   "nbconvert_exporter": "python",
   "pygments_lexer": "ipython3",
   "version": "3.7.6"
  },
  "latex_envs": {
   "LaTeX_envs_menu_present": true,
   "autoclose": false,
   "autocomplete": true,
   "bibliofile": "biblio.bib",
   "cite_by": "apalike",
   "current_citInitial": 1,
   "eqLabelWithNumbers": true,
   "eqNumInitial": 1,
   "hotkeys": {
    "equation": "Ctrl-E",
    "itemize": "Ctrl-I"
   },
   "labels_anchors": false,
   "latex_user_defs": false,
   "report_style_numbering": false,
   "user_envs_cfg": false
  },
  "nteract": {
   "version": "0.2.0"
  }
 },
 "nbformat": 4,
 "nbformat_minor": 4
}
